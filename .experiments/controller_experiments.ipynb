{
 "cells": [
  {
   "cell_type": "code",
   "execution_count": 27,
   "metadata": {},
   "outputs": [],
   "source": [
    "import pyomo.environ as pyo\n",
    "import numpy as np\n",
    "import pandas as pd\n",
    "import matplotlib.pyplot as plt\n",
    "from pyomo.contrib import appsi"
   ]
  },
  {
   "cell_type": "code",
   "execution_count": 28,
   "metadata": {},
   "outputs": [],
   "source": [
    "class BES_MILP_model(): \n",
    "    def __init__(self, name, E_min=0., E_max=20_000.*3600, P_max_cha=20_000., P_max_dis=20_000., eta_cha=0.95, eta_dis=0.95):\n",
    "        '''\n",
    "        A battery energy storag model with charging and discharging efficiencies.\n",
    "        The model needs to be used in an parent model to function correctly!\n",
    "        The parent pyomo model is required to have the following attributes:\n",
    "        - model.timepoints : pyo.RangeSet, timepoints of the simulation\n",
    "        - model.periods : pyo.RangeSet, eriods of the simulation\n",
    "        - model.delta_t : pyo.Param, timedelta of the simulation\n",
    "        \n",
    "        Parameter:\n",
    "        ---------\n",
    "        E_min : float, minimum energy of the storage in J\n",
    "        E_max : float, maximum energy of the storage in J\n",
    "        P_max_cha : maximum charging power in W\n",
    "        P_max_dis : maximum discharging powre in W\n",
    "        eta_cha : float [0, 1] charging efficiency (no unit)\n",
    "        eta_dis : float [0, 1] discharging efficiency (no unit)'''\n",
    "\n",
    "        # Parameters\n",
    "        self.name      = name\n",
    "        self.E_min     = E_min # J\n",
    "        self.E_max     = E_max # 20 kWh in J\n",
    "        self.P_max_cha = P_max_cha # W\n",
    "        self.P_max_dis = P_max_dis # W\n",
    "        self.eta_cha   = eta_cha # 1\n",
    "        self.eta_dis   = eta_dis # 1\n",
    "\n",
    "        # config info\n",
    "        self.state_inputs     = ['E_BES_0'] # inputs to the state, needs to be a Parameter of the pyo.Block\n",
    "        self.forecast_inputs  = [] # inputs for forecast values, needs to be a Parameter of the pyo.Block with index model.periods\n",
    "        self.controll_outputs = ['P_el'] # outputs to the controller, needs to be a Variable of the pyo.Block with index model.periods\n",
    "        self.shares           = ['P_el'] # connection to other variables (following egoistic sign logic, + is consumption, -is feedin) needs to be a pyo.Variable with index model.periods\n",
    "\n",
    "    def pyo_block_rule(self, block):\n",
    "        \n",
    "        model = block.model()\n",
    "\n",
    "        block.E_BES_0   = pyo.Param(mutable=True, domain=pyo.NonNegativeReals, validate=lambda _, E: self.E_min <= E and E <= self.E_max) # J\n",
    "\n",
    "        # Variables\n",
    "        block.E         = pyo.Var(model.timepoints, domain=pyo.NonNegativeReals, bounds=(self.E_min, self.E_max)) # J\n",
    "        block.P_el      = pyo.Var(model.periods, domain=pyo.Reals) # Electrical Power in W (feed in = positive, consumption = negative)\n",
    "\n",
    "        # helper Variables\n",
    "        block.P_el_cha  = pyo.Var(model.periods, domain=pyo.NonNegativeReals) # Electrical charging Power in W (helper)\n",
    "        block.P_el_dis  = pyo.Var(model.periods, domain=pyo.NonNegativeReals) # Electrical discharging Power in W (helper)\n",
    "        block.bool      = pyo.Var(model.periods, domain=pyo.Boolean) # prevent same time charging and discharging\n",
    "\n",
    "        @block.Constraint(model.periods)\n",
    "        def energy_balance(block, p):\n",
    "            return block.E[p+1] == block.E[p] + (block.P_el_cha[p] * self.eta_cha - block.P_el_dis[p] / self.eta_dis) * model.delta_t\n",
    "        \n",
    "        @block.Constraint(model.periods)\n",
    "        def output_power(block, p):\n",
    "            return block.P_el[p] == block.P_el_cha[p] - block.P_el_dis[p]\n",
    "\n",
    "        @block.Constraint(model.periods)\n",
    "        def power_limit_bool_cha(block, p):\n",
    "            return block.P_el_cha[p] <= block.bool[p] * self.P_max_cha\n",
    "        \n",
    "        @block.Constraint(model.periods)\n",
    "        def power_limit_bool_dis(block, p):\n",
    "            return block.P_el_dis[p] <= block.bool[p] * self.P_max_dis\n",
    "\n",
    "        @block.Constraint()\n",
    "        def initial_condition(block):\n",
    "            return block.E[0] == block.E_BES_0"
   ]
  },
  {
   "cell_type": "code",
   "execution_count": 29,
   "metadata": {},
   "outputs": [],
   "source": [
    "class EC__Residual_Load_MILP_model(): \n",
    "    def __init__(self, name='EC'):\n",
    "        '''\n",
    "        An Energy Community MILP Model.\n",
    "        The parent pyomo model is required to have the following attributes:\n",
    "        - model.timepoints : pyo.RangeSet, timepoints of the simulation\n",
    "        - model.periods : pyo.RangeSet, eriods of the simulation\n",
    "        - model.delta_t : pyo.Param, timedelta of the simulation\n",
    "        \n",
    "        Parameter:\n",
    "        ---------\n",
    "        name : str, name of the Energy Community model'''\n",
    "\n",
    "        # Parameters\n",
    "        self.name      = name\n",
    "\n",
    "        # config info\n",
    "        self.state_inputs     = [] # inputs to the state, needs to be a Parameter of the pyo.Block\n",
    "        self.forecast_inputs  = ['P_resid_ec'] # inputs for forecast values, needs to be a Parameter of the pyo.Block with index model.periods\n",
    "        self.controll_outputs = [] # outputs to the controller, needs to be a Variable of the pyo.Block with index model.periods\n",
    "        self.shares           = ['P_el'] # connection to other variables (following egoistic sign logic, + is consumption, -is feedin) needs to be a pyo.Variable with index model.periods\n",
    "\n",
    "    def pyo_block_rule(self, block):\n",
    "        model = block.model()\n",
    "        block.P_el       = pyo.Var(model.periods, domain=pyo.Reals) # Electrical Power in W (feed in = positive, consumption = negative)\n",
    "        block.P_resid_ec = pyo.Param(model.periods, mutable=True, domain=pyo.Reals) # Residual load of EC (surplus_load > 0 > surplus_generation)\n",
    "\n",
    "        # EC / Grid constraints:\n",
    "        @block.Constraint(model.periods)\n",
    "        def grid_constraint(b, p):\n",
    "            return (b.P_el[p] == b.P_resid_ec[p]) "
   ]
  },
  {
   "cell_type": "code",
   "execution_count": 126,
   "metadata": {},
   "outputs": [],
   "source": [
    "class MPController():\n",
    "    def __init__(self, n_periods, delta_t, pyo_solver_name='appsi_highs'):\n",
    "        '''A model predicteve Controller utilizing MILP with pyomo. \n",
    "        MILP Models can be added to the model via the add_model() method. Added modles need to follow a given structure. \n",
    "        Please find examples for reference.\n",
    "        Inputs and outputs get configured automatically based on the added models.\n",
    "        \n",
    "        Parameters\n",
    "        ----------\n",
    "        n_periods : int, length of optimization horizon\n",
    "        delta_t : int, timedelta of the controller in s\n",
    "        pyo_solver_name : str, name of a pyomo solver (passed to pyo.SolverFactory)\n",
    "        '''\n",
    "        self.n_periods  = n_periods\n",
    "        self.delta_t    = delta_t\n",
    "        self.inputs = []\n",
    "        self.outputs = []\n",
    "\n",
    "        self.solver = pyo.SolverFactory(pyo_solver_name)\n",
    "\n",
    "        # make Energy Community model\n",
    "        self.model      = pyo.ConcreteModel()\n",
    "\n",
    "        self.model.timepoints = pyo.RangeSet(0, n_periods) # Range of timepoints\n",
    "        self.model.periods    = pyo.RangeSet(0, n_periods-1) # Range of periods\n",
    "        self.model.delta_t    = pyo.Param(initialize=60*15) # s\n",
    "\n",
    "        self.model.P_resid_plus  = pyo.Var(self.model.periods, domain=pyo.NonNegativeReals) # Residual Grid load W \n",
    "        self.model.P_resid_minus = pyo.Var(self.model.periods, domain=pyo.NonNegativeReals) # Residual Grid load W\n",
    "\n",
    "        self.components = [] # list of components that get added via add_model (they need to follow a specific syntax! see examples)\n",
    "\n",
    "        # Grid constraints:\n",
    "        @self.model.Constraint(self.model.periods)\n",
    "        def grid_constraint(m, p):\n",
    "            return (sum([m.find_component(comp.name).P_el[p] for comp in self.components if 'P_el' in comp.shares]) \n",
    "                    + m.P_resid_plus[p] - m.P_resid_minus[p] == 0) # \n",
    "\n",
    "        # TODO: this could be made parametric / object oriented\n",
    "        @self.model.Objective(sense=pyo.minimize)\n",
    "        def objective_rule(m):\n",
    "            return pyo.quicksum(m.P_resid_plus[p]+m.P_resid_minus[p] for p in m.periods)\n",
    "        \n",
    "        self.forcasters = [] # list of forcasters that get added via add_model (they need to follow a specific syntax! see examples)    \n",
    "\n",
    "    def add_model(self, component):\n",
    "        '''add a model which needs to follow the given structure, see the examples'''\n",
    "        # add components to the list of components\n",
    "        self.components += [component]\n",
    "        # Add constraints as a block to the EC model:\n",
    "        self.model.__setattr__(component.name, pyo.Block(rule=component.pyo_block_rule))\n",
    "        # append model inputs\n",
    "        self.inputs += [si+'_of_'+component.name for si in component.state_inputs]\n",
    "\n",
    "    def add_forcaster(self, forcaster, for_model, for_var):\n",
    "        '''Adds a forcasting objct to the controller for a model input of the MILP model\n",
    "        Parameters\n",
    "        ----------\n",
    "        forcaster :  Forcast, forcsting object for a variable \n",
    "        for_model : MILP_Model, the model that the forcast is for\n",
    "        for_vars : str, the forecast_inputs attribute of for_model to connect the forcast to'''\n",
    "        if for_var not in for_model.forecast_inputs: \n",
    "            raise AttributeError(f'Model {for_model} has no forcast input {for_var}')\n",
    "        complete_for_vars =[for_var+'_of_'+for_model.name]\n",
    "        self.forcasters += [(complete_for_vars, forcaster)]\n",
    "        forcaster.set_forcast_length(self.n_periods)\n",
    "\n",
    "    def step(self, time, **inputs):\n",
    "        # TODO: create observers to manipulate the input variables\n",
    "\n",
    "        # initialize component states\n",
    "        for comp in self.components:\n",
    "            for state_name in comp.state_inputs:\n",
    "                self.model.find_component(comp.name).__setattr__(state_name, inputs[state_name+'_of_'+comp.name])\n",
    "        \n",
    "        # update forcasters with input data\n",
    "        for _, forc in self.forcasters:\n",
    "            # get inputs for forcasters\n",
    "            forc_inputs = {k: inputs[k] for k in forc.inputs}\n",
    "            forc.set_data(forc_inputs)\n",
    "\n",
    "        # create forcasts\n",
    "        forcast_outputs = {}\n",
    "        for for_vars, forc in self.forcasters:\n",
    "            forc_out = forc.get_forcast()\n",
    "            outputs_maped = {k: forc_out for k in for_vars}\n",
    "            forcast_outputs.update(outputs_maped)\n",
    "\n",
    "        # initialize component forcasts  # UFF!!! TODO simplify!\n",
    "        for comp in self.components:\n",
    "            for forc_name in comp.forecast_inputs:\n",
    "                comp = self.model.find_component(comp.name)\n",
    "                name = forc_name+'_of_'+comp.name\n",
    "                for p in self.model.periods:\n",
    "                    comp.__getattribute__(forc_name).__setitem__(p, forcast_outputs[name][p])\n",
    "\n",
    "        self.solver.solve(self.model)\n",
    "\n",
    "        # get outputs from models\n",
    "        outputs = {}\n",
    "        for comp in self.components:\n",
    "            pyo_comp = self.model.find_component(comp.name)\n",
    "            for out_name in comp.controll_outputs:\n",
    "                outputs[out_name+'_of_'+comp.name] =pyo.value(pyo_comp.__getattribute__(out_name)[0])\n",
    "        return outputs\n",
    "\n",
    "class Forcasting():\n",
    "    def __init__(self, inputs):\n",
    "        self.inputs = inputs\n",
    "\n",
    "    def get_forcast(self) -> list:\n",
    "        return [1, -1, 1, -1, 1]\n",
    "\n",
    "    def set_data(self, _):\n",
    "        pass\n",
    "    \n",
    "    def set_forcast_lengt(self, n):\n",
    "        pass"
   ]
  },
  {
   "cell_type": "code",
   "execution_count": 129,
   "metadata": {},
   "outputs": [],
   "source": [
    "ctr = MPController(3, 60*15)\n",
    "\n",
    "# EC\n",
    "ec = EC__Residual_Load_MILP_model()\n",
    "ctr.add_model(ec)\n",
    "fc = Forcasting([])\n",
    "ctr.add_forcaster(fc, ec, 'P_resid_ec')\n",
    "\n",
    "# BES\n",
    "bes = BES_MILP_model('BES')\n",
    "ctr.add_model(bes)"
   ]
  },
  {
   "cell_type": "code",
   "execution_count": 135,
   "metadata": {},
   "outputs": [
    {
     "data": {
      "text/plain": [
       "['E_BES_0_of_BES']"
      ]
     },
     "execution_count": 135,
     "metadata": {},
     "output_type": "execute_result"
    }
   ],
   "source": [
    "ctr.inputs"
   ]
  },
  {
   "cell_type": "code",
   "execution_count": 130,
   "metadata": {},
   "outputs": [
    {
     "data": {
      "text/plain": [
       "{'P_el_of_BES': 1949.9989444444436}"
      ]
     },
     "execution_count": 130,
     "metadata": {},
     "output_type": "execute_result"
    }
   ],
   "source": [
    "inputs = {'E_BES_0_of_A': 1, \n",
    "        'E_BES_0_of_BES': 1,}\n",
    "\n",
    "ctr.step(1, **inputs)"
   ]
  },
  {
   "cell_type": "code",
   "execution_count": 134,
   "metadata": {},
   "outputs": [
    {
     "data": {
      "text/plain": [
       "[1949.9989444444436, 0.0, 1950.0]"
      ]
     },
     "execution_count": 134,
     "metadata": {},
     "output_type": "execute_result"
    }
   ],
   "source": [
    "pyo.value(ctr.model.BES.P_el[:])"
   ]
  },
  {
   "cell_type": "code",
   "execution_count": 141,
   "metadata": {},
   "outputs": [
    {
     "data": {
      "text/plain": [
       "[]"
      ]
     },
     "execution_count": 141,
     "metadata": {},
     "output_type": "execute_result"
    }
   ],
   "source": [
    "ctr.inputs"
   ]
  },
  {
   "cell_type": "code",
   "execution_count": 105,
   "metadata": {},
   "outputs": [
    {
     "data": {
      "text/plain": [
       "{'Problem': [{'Lower bound': 1.1928888888888889, 'Upper bound': 1.1928888888888889, 'Number of objectives': 1, 'Number of constraints': 0, 'Number of variables': 0, 'Sense': 'minimize'}], 'Solver': [{'Status': 'ok', 'Termination condition': 'optimal', 'Termination message': 'TerminationCondition.optimal'}], 'Solution': [OrderedDict([('number of solutions', 0), ('number of solutions displayed', 0)])]}"
      ]
     },
     "execution_count": 105,
     "metadata": {},
     "output_type": "execute_result"
    }
   ],
   "source": [
    "n_periods  = 5\n",
    "\n",
    "model            = pyo.ConcreteModel()\n",
    "\n",
    "model.timepoints = pyo.RangeSet(0, n_periods) # Range of timepoints\n",
    "model.periods    = pyo.RangeSet(0, n_periods-1) # Range of periods\n",
    "model.delta_t    = pyo.Param(initialize=60*15) # s\n",
    "\n",
    "model.P_resid_plus    = pyo.Var(model.periods, domain=pyo.NonNegativeReals) # Residual Grid load W \n",
    "model.P_resid_minus   = pyo.Var(model.periods, domain=pyo.NonNegativeReals) # Residual Grid load W\n",
    "\n",
    "P_resid_ec = [1, -1, 1, -1, 1]\n",
    "\n",
    "components = [BES_MILP_model('A'), BES_MILP_model('B')]\n",
    "\n",
    "# add component constraints\n",
    "for comp in components:\n",
    "    model.__setattr__(comp.name, pyo.Block(rule=comp.pyo_block_rule))\n",
    "\n",
    "states = {'E_BES_0_of_A': 1, \n",
    "          'E_BES_0_of_B': 1,}\n",
    "\n",
    "inputs = []\n",
    "for comp in components:\n",
    "    inputs += [si+'_of_'+comp.name for si in comp.state_inputs]\n",
    "\n",
    "# initialize component states\n",
    "for comp in components:\n",
    "    for state_name in comp.state_inputs:\n",
    "        model.find_component(comp.name).__setattr__(state_name, states[state_name+'_of_'+comp.name])\n",
    "\n",
    "# # initialize component forcasts\n",
    "# for comp in components:\n",
    "\n",
    "# grid constraints:\n",
    "@model.Constraint(model.periods)\n",
    "def grid_constraint(model, p):\n",
    "    return sum([model.find_component(comp.name).P_el[p] for comp in components if 'P_el' in comp.shares]) + P_resid_ec[p] + model.P_resid_plus[p] - model.P_resid_minus[p] == 0 # \n",
    "\n",
    "\n",
    "@model.Objective(sense=pyo.minimize)\n",
    "def objective_rule(m):\n",
    "    return pyo.quicksum(m.P_resid_plus[p]+m.P_resid_minus[p] for p in m.periods)\n",
    "\n",
    "solver = pyo.SolverFactory('appsi_highs')\n",
    "\n",
    "solver.solve(model)\n"
   ]
  },
  {
   "cell_type": "code",
   "execution_count": null,
   "metadata": {},
   "outputs": [],
   "source": []
  },
  {
   "cell_type": "code",
   "execution_count": 2,
   "metadata": {},
   "outputs": [],
   "source": [
    "import pyomo.environ as pyo\n",
    "\n",
    "class EnergyCommunityOptModel(pyo.ConcreteModel):\n",
    "    def __init__(m, n_periods=3, delta_t=60*15):\n",
    "        '''\n",
    "        Initialize a Energy Community optimization model.\n",
    "        \n",
    "        Parameter\n",
    "        ---------\n",
    "        n_periods : int, Number of time periods, the optimization uses\n",
    "        delta_t : int, Time-delta of the optimization in seconds'''\n",
    "        super().__init__()\n",
    "\n",
    "        # Index / Time\n",
    "        m.n_periods  = n_periods\n",
    "        m.timepoints = pyo.RangeSet(0, n_periods) # Range of timepoints\n",
    "        m.periods    = pyo.RangeSet(0, n_periods-1) # Range of periods\n",
    "        m.delta_t    = pyo.Param(initialize=delta_t) # s\n",
    "\n",
    "        # Flexibilities\n",
    "        m.flex = pyo.Set() # all flexibilities (indexed by names)\n",
    "        m.bes  = pyo.Set() # all Battery storages (indexd by names)\n",
    "        m.dhwh = pyo.Set() # all heat pumps (indexd by names)\n",
    "\n",
    "        # m.solver = appsi.solvers.Highs()\n",
    "        m.solver = pyo.SolverFactory('appsi_highs') # TODO: check if this is still the best way to access solver (other option see above)\n",
    "\n",
    "        # TODO: change inputs to forcast_values and state_inputs!! \n",
    "        m.inputs = {'EC': [('ec_P_resid', m.n_periods)]} # all required inputs of the model, this gets updated when add model is called\n",
    "        m.outputs = {'EC': [('grid_P_feed', m.n_periods),  ('grid_P_cons', m.n_periods)]} # all required outputs of the model, this gets updated when add model is called\n",
    "\n",
    "    \n",
    "    ############\n",
    "    # EC\n",
    "    ############\n",
    "    def set_ec_residual_power(m, P_resid):\n",
    "        '''Initialize the Energy Communities residual power in W (EC-consumption < 0 < EC-feedin)'''\n",
    "        for p in m.periods:\n",
    "            m.ec_P_resid[p] = P_resid[p]\n",
    "\n",
    "    def get_grid_optimal_residual_powers(m):\n",
    "        return [a-b for a, b in zip(pyo.value(m.grid_P_cons[:]), pyo.value(m.grid_P_feed[:]))]\n",
    "        \n",
    "    def make_energy_comunity(m):\n",
    "        '''\n",
    "        Add constraints and objective to the optimization problem, based on the parameters set before!'''\n",
    "        \n",
    "        # Flexibilities' Powers (shared across all flexibilities!)\n",
    "        m.flex_P_cons = pyo.Var(m.flex, m.periods, domain=pyo.NonNegativeReals) # flexibility consumption, W\n",
    "        m.flex_P_feed = pyo.Var(m.flex, m.periods, domain=pyo.NonNegativeReals) # flexibility feedin, W\n",
    "\n",
    "        # Grid\n",
    "        m.ec_P_resid = pyo.Param(m.periods, mutable=True) # Residual Power in W (feedin < 0 < consumption)\n",
    "\n",
    "        m.grid_P_cons = pyo.Var(m.periods, domain=pyo.NonNegativeReals) # grid consumption, W\n",
    "        m.grid_P_feed = pyo.Var(m.periods, domain=pyo.NonNegativeReals) # grid feedin, W\n",
    "   \n",
    "        # Grid Energy Balance\n",
    "        @m.Constraint(m.periods)\n",
    "        def grid_constraint_energy_balance(m, p):\n",
    "            return m.grid_P_cons[p] + sum([m.flex_P_feed[f, p] for f in m.flex]) + m.ec_P_resid[p] == m.grid_P_feed[p] + sum([m.flex_P_cons[f, p] for f in m.flex])\n",
    "\n",
    "        # Add Component models\n",
    "        m.bes_models  = pyo.Block(m.bes, rule=m._add_bes_constraints)\n",
    "        m.dhwh_models = pyo.Block(m.dhwh, rule=m._add_dhwh_constraints)\n",
    "\n",
    "        @m.Objective(sense=pyo.minimize)\n",
    "        def objective_rule(m):\n",
    "         return pyo.quicksum(m.grid_P_cons[p]+m.grid_P_feed[p] for p in m.periods) # Check objective! \n",
    "\n",
    "    def solve_ec_model(m):\n",
    "        return m.solver.solve(m)        "
   ]
  },
  {
   "cell_type": "code",
   "execution_count": 3,
   "metadata": {},
   "outputs": [],
   "source": [
    "l = 96\n",
    "model = EnergyCommunityOptModel(l)\n",
    "\n",
    "# add modles\n",
    "model.add_bes(name='bes_1')\n",
    "model.add_bes(name='bes_2')\n",
    "model.add_hp(name='hp_1')\n",
    "\n",
    "# initialize models\n",
    "model.set_bes_state('bes_1', 10_000.*3600)\n",
    "model.set_bes_state('bes_2', 10_000.*3600)\n",
    "model.set_hp_state('hp_1', 0.2 * 4200 * 20)\n",
    "\n",
    "# set auxiliary variables / forcasts\n",
    "P_res = (np.random.random(l)-0.5)*2*20_000\n",
    "model.set_grid_residual_load(P_res)\n",
    "\n",
    "dot_Q_cons = np.random.random(l)*1_000\n",
    "model.set_hp_Q_tes('hp_1', dot_Q_cons)\n",
    "\n",
    "model.make_energy_comunity()\n",
    "# model.pprint()"
   ]
  },
  {
   "cell_type": "code",
   "execution_count": 4,
   "metadata": {},
   "outputs": [
    {
     "data": {
      "text/plain": [
       "{'Problem': [{'Lower bound': 0.0, 'Upper bound': 0.0, 'Number of objectives': 1, 'Number of constraints': 0, 'Number of variables': 0, 'Sense': 'minimize'}], 'Solver': [{'Status': 'ok', 'Termination condition': 'optimal', 'Termination message': 'TerminationCondition.optimal'}], 'Solution': [OrderedDict([('number of solutions', 0), ('number of solutions displayed', 0)])]}"
      ]
     },
     "execution_count": 4,
     "metadata": {},
     "output_type": "execute_result"
    }
   ],
   "source": [
    "# solver = appsi.solvers.Highs()\n",
    "solver = pyo.SolverFactory('appsi_highs')\n",
    "\n",
    "# when using appsi solvers, the speed can be improoved for repetetive solves by setting the following checs to false (not sure if it works...):\n",
    "# https://pyomo.readthedocs.io/en/6.8.0/library_reference/appsi/appsi.html\n",
    "solver.update_config.check_for_new_or_removed_constraints = False\n",
    "solver.update_config.check_for_new_or_removed_vars = False\n",
    "solver.update_config.update_constraints = False\n",
    "solver.update_config.update_vars = False\n",
    "\n",
    "result = solver.solve(model)\n",
    "P_bes_1 = np.array(pyo.value(model.flex_P_cons['bes_1', :])) - np.array(pyo.value(model.flex_P_feed['bes_1', :]))\n",
    "P_bes_2 = np.array(pyo.value(model.flex_P_cons['bes_2', :])) - np.array(pyo.value(model.flex_P_feed['bes_2', :]))\n",
    "P_hp_1 = np.array(pyo.value(model.flex_P_cons['hp_1', :])) - np.array(pyo.value(model.flex_P_feed['hp_1', :]))\n",
    "result"
   ]
  },
  {
   "cell_type": "code",
   "execution_count": 5,
   "metadata": {},
   "outputs": [
    {
     "data": {
      "text/plain": [
       "Text(0.5, 0, 'time in 15 min')"
      ]
     },
     "execution_count": 5,
     "metadata": {},
     "output_type": "execute_result"
    },
    {
     "data": {
      "image/png": "[encoded data removed]",
      "text/plain": [
       "<Figure size 640x480 with 2 Axes>"
      ]
     },
     "metadata": {},
     "output_type": "display_data"
    }
   ],
   "source": [
    "fig, axs = plt.subplots(2, 1, sharex=True, sharey=True)\n",
    "\n",
    "\n",
    "axs[0].plot(P_res, label='P_res', drawstyle='steps')\n",
    "axs[0].legend()\n",
    "axs[0].set_ylabel('P in W')\n",
    "\n",
    "\n",
    "axs[1].plot(P_bes_1, label='P_BES,1', drawstyle='steps')\n",
    "axs[1].plot(P_bes_2, label='P_BES,2', drawstyle='steps')\n",
    "axs[1].plot(P_hp_1, label='P_HP,1', drawstyle='steps')\n",
    "# axs[1].plot(P_bes_1 + P_bes_2 + P_hp_1, label='P_flex,tot', drawstyle='steps')\n",
    "axs[1].legend()\n",
    "axs[1].set_ylabel('P in W')\n",
    "axs[1].set_xlabel('time in 15 min')"
   ]
  },
  {
   "cell_type": "code",
   "execution_count": null,
   "metadata": {},
   "outputs": [],
   "source": []
  },
  {
   "cell_type": "code",
   "execution_count": 89,
   "metadata": {},
   "outputs": [
    {
     "data": {
      "text/plain": [
       "'BAb'"
      ]
     },
     "execution_count": 89,
     "metadata": {},
     "output_type": "execute_result"
    }
   ],
   "source": [
    "\n",
    "\n",
    "inp = Inputs('Ab', 'bc')\n",
    "inp.__getattribute__('Ab')"
   ]
  },
  {
   "cell_type": "code",
   "execution_count": 37,
   "metadata": {},
   "outputs": [],
   "source": [
    "from collections import namedtuple\n",
    "from types import SimpleNamespace"
   ]
  },
  {
   "cell_type": "code",
   "execution_count": 88,
   "metadata": {},
   "outputs": [
    {
     "ename": "SyntaxError",
     "evalue": "invalid syntax (2732843293.py, line 1)",
     "output_type": "error",
     "traceback": [
      "\u001b[1;36m  Cell \u001b[1;32mIn[88], line 1\u001b[1;36m\u001b[0m\n\u001b[1;33m    inp.\u001b[0m\n\u001b[1;37m        ^\u001b[0m\n\u001b[1;31mSyntaxError\u001b[0m\u001b[1;31m:\u001b[0m invalid syntax\n"
     ]
    }
   ],
   "source": []
  },
  {
   "cell_type": "code",
   "execution_count": 70,
   "metadata": {},
   "outputs": [],
   "source": [
    "nt = namedtuple('Inputs', ['x', 'y'])"
   ]
  },
  {
   "cell_type": "code",
   "execution_count": null,
   "metadata": {},
   "outputs": [],
   "source": [
    "from typing import NamedTuple\n",
    "\n",
    "class Inputs(NamedTuple):\n",
    "    def __init__():\n",
    "        self.add\n",
    "\n"
   ]
  },
  {
   "cell_type": "code",
   "execution_count": 81,
   "metadata": {},
   "outputs": [],
   "source": [
    "a = nt(1, 2)"
   ]
  },
  {
   "cell_type": "code",
   "execution_count": 34,
   "metadata": {},
   "outputs": [],
   "source": [
    "class Model():\n",
    "    def __init__(self):\n",
    "        self.name\n",
    "\n",
    "    def set_inputs(self, *input_names):\n",
    "        nt = namedtuple('Inputs', input_names)\n",
    "        return nt(*[i + '_of_'+ self.name for i in input_names])\n",
    "    \n",
    "    def set_inputs(self, *input_names):\n",
    "        return SimpleNamespace(**{i: i + '_of_'+ self.name for i in input_names})"
   ]
  },
  {
   "cell_type": "code",
   "execution_count": 45,
   "metadata": {},
   "outputs": [],
   "source": [
    "class Inputs():\n",
    "    def __init__(self, *inputs):\n",
    "        for inp in inputs:\n",
    "            self.__setattr__(inp, inp)"
   ]
  },
  {
   "cell_type": "code",
   "execution_count": 49,
   "metadata": {},
   "outputs": [],
   "source": [
    "class DynamicAttributesMeta(type):\n",
    "    def __new__(cls, name, bases, dct):\n",
    "        dct[\"_dynamic_attributes\"] = set()  # Track dynamic attributes\n",
    "        return super().__new__(cls, name, bases, dct)\n",
    "\n",
    "\n",
    "class Inputs(metaclass=DynamicAttributesMeta):\n",
    "    def __init__(self, *inputs):\n",
    "        for inp in inputs:\n",
    "            setattr(self, inp, inp)\n",
    "            self.__class__._dynamic_attributes.add(inp)\n",
    "\n",
    "    def __getattr__(self, name):\n",
    "        if name in self.__class__._dynamic_attributes:\n",
    "            return name\n",
    "        raise AttributeError(f\"'{self.__class__.__name__}' object has no attribute '{name}'\")\n",
    "\n",
    "\n",
    "\n",
    "obj = Inputs(\"x\", \"y\", \"z\")\n"
   ]
  },
  {
   "cell_type": "code",
   "execution_count": 71,
   "metadata": {},
   "outputs": [],
   "source": [
    "from functools import partial\n",
    "from collections import namedtuple\n",
    "\n",
    "inputs = partial(namedtuple, 'Inputs') \n",
    "\n",
    "def inputs(*inputs):\n",
    "    nt = namedtuple('Inputs', (inputs))\n",
    "    return nt(*inputs)\n"
   ]
  },
  {
   "cell_type": "code",
   "execution_count": 72,
   "metadata": {},
   "outputs": [],
   "source": [
    "inp = inputs('A', 'B', 'C')"
   ]
  },
  {
   "cell_type": "code",
   "execution_count": 73,
   "metadata": {},
   "outputs": [
    {
     "data": {
      "text/plain": [
       "'A'"
      ]
     },
     "execution_count": 73,
     "metadata": {},
     "output_type": "execute_result"
    }
   ],
   "source": [
    "inp.A"
   ]
  },
  {
   "cell_type": "code",
   "execution_count": null,
   "metadata": {},
   "outputs": [],
   "source": [
    "__qualname__"
   ]
  },
  {
   "cell_type": "code",
   "execution_count": 82,
   "metadata": {},
   "outputs": [],
   "source": [
    "from typing import NamedTuple\n",
    "class Input(NamedTuple):\n",
    "    pass"
   ]
  },
  {
   "cell_type": "code",
   "execution_count": 86,
   "metadata": {},
   "outputs": [],
   "source": [
    "\n",
    "class MyModel():\n",
    "    inputs = namedtuple('Input', ('A', 'B'))\n",
    "\n",
    "    def __init__(self):\n",
    "        self.name = 'name'"
   ]
  },
  {
   "cell_type": "code",
   "execution_count": 87,
   "metadata": {},
   "outputs": [],
   "source": [
    "m = MyModel()\n"
   ]
  },
  {
   "cell_type": "code",
   "execution_count": 88,
   "metadata": {},
   "outputs": [],
   "source": [
    "inputs = namedtuple('Input', ('A', 'B'))"
   ]
  },
  {
   "cell_type": "code",
   "execution_count": 32,
   "metadata": {},
   "outputs": [
    {
     "data": {
      "text/plain": [
       "True"
      ]
     },
     "execution_count": 32,
     "metadata": {},
     "output_type": "execute_result"
    }
   ],
   "source": [
    "import pyomo.environ as pyo\n",
    "from typing import Protocol, runtime_checkable\n",
    "\n",
    "@runtime_checkable\n",
    "class MILPModelProto(Protocol):\n",
    "    def __init__(self, name:str):\n",
    "        self.state_inputs     = [] # inputs to the state, needs to be a Parameter of the pyo.Block\n",
    "        self.forcast_inputs   = [] # inputs for forecast values, needs to be a Parameter of the pyo.Block with index model.periods\n",
    "        self.controll_outputs = [] # outputs to the controller, needs to be a Variable of the pyo.Block with index model.periods\n",
    "        self.shares           = [] # connection to other variables (following egoistic sign logic, + is consumption, -is feedin) needs to be a pyo.Variable with index model.periods\n",
    "        self.name             =   'a'\n",
    "\n",
    "    def pyo_block_rule(self, block:pyo.Block) -> None:\n",
    "        model = block.model()\n",
    "\n",
    "\n",
    "class ComponentMock():\n",
    "    def __init__(self):\n",
    "        pass\n",
    "        # self.state_inputs     = [] # inputs to the state, needs to be a Parameter of the pyo.Block\n",
    "        # self.forcast_inputs   = [] # inputs for forecast values, needs to be a Parameter of the pyo.Block with index model.periods\n",
    "        # self.controll_outputs = [] # outputs to the controller, needs to be a Variable of the pyo.Block with index model.periods\n",
    "        # self.shares           = [] # connection to other variables (following egoistic sign logic, + is consumption, -is feedin) needs to be a pyo.Variable with index model.periods\n",
    "        # self.name             =   'a'\n",
    "        \n",
    "    def pyo_block_rule(self, block):\n",
    "        block.P_el = pyo.Var(block.model().periods)\n",
    "\n",
    "c = ComponentMock()\n",
    "\n",
    "isinstance(ComponentMock, MILPModelProto)"
   ]
  },
  {
   "cell_type": "code",
   "execution_count": null,
   "metadata": {},
   "outputs": [],
   "source": []
  },
  {
   "cell_type": "code",
   "execution_count": 6,
   "metadata": {},
   "outputs": [
    {
     "data": {
      "text/plain": [
       "index\n",
       "2020-01-01 12:00:00    1\n",
       "2020-01-01 13:00:00    2\n",
       "2020-01-01 14:00:00    3\n",
       "Name: sm, dtype: int64"
      ]
     },
     "execution_count": 6,
     "metadata": {},
     "output_type": "execute_result"
    }
   ],
   "source": [
    "import pandas as pd\n",
    "\n",
    "reccords = [\n",
    "(pd.to_datetime(\"2020-01-01 12:00\"), 1),\n",
    "(pd.to_datetime(\"2020-01-01 13:00\"), 2),\n",
    "(pd.to_datetime(\"2020-01-01 14:00\"), 3)\n",
    "]\n",
    "\n",
    "pd.DataFrame.from_records(reccords, columns=['index', 'sm'], index='index').squeeze()"
   ]
  }
 ],
 "metadata": {
  "kernelspec": {
   "display_name": ".venv",
   "language": "python",
   "name": "python3"
  },
  "language_info": {
   "codemirror_mode": {
    "name": "ipython",
    "version": 3
   },
   "file_extension": ".py",
   "mimetype": "text/x-python",
   "name": "python",
   "nbconvert_exporter": "python",
   "pygments_lexer": "ipython3",
   "version": "3.10.12"
  }
 },
 "nbformat": 4,
 "nbformat_minor": 2
}
