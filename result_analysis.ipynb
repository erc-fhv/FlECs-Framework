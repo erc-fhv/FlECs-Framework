{
 "cells": [
  {
   "cell_type": "code",
   "execution_count": 2,
   "metadata": {},
   "outputs": [],
   "source": [
    "import pandas as pd\n",
    "from simplec import Simulation\n",
    "\n",
    "from simplec_examples.models.building_model import BuildingModel\n",
    "from simplec_examples.models.heat_pump import HeatPumpEventBased\n",
    "from simplec_examples.models.hyst_controller import HystController\n",
    "from simplec_examples.models.weather_model import LocalWeather\n",
    "\n",
    "import matplotlib.pyplot as plt\n",
    "import matplotlib.dates as mdates"
   ]
  },
  {
   "cell_type": "code",
   "execution_count": 3,
   "metadata": {},
   "outputs": [
    {
     "name": "stderr",
     "output_type": "stream",
     "text": [
      "Progress: 100%|██████████| 2881/2881 [00:10<00:00, 285.66Steps/s]\n"
     ]
    }
   ],
   "source": [
    "sim = Simulation()\n",
    "\n",
    "building   = BuildingModel('building')\n",
    "heatpump   = HeatPumpEventBased('heatpump')\n",
    "controller = HystController('controller', hyst=1.2)\n",
    "weather    = LocalWeather('weather')\n",
    "\n",
    "sim.add_model(building,   watch_values=['T_room1', 'T_room2', 'T_amb', 'apparent_zenith', 'dhi', 'ghi']  )\n",
    "sim.add_model(heatpump,   watch_values=['state', 'P_el', 'dot_Q_hp'])\n",
    "sim.add_model(controller, watch_values=['T_is', 'state'])\n",
    "sim.add_model(weather ,    watch_values=['apparent_zenith', 'dhi', 'ghi'])\n",
    "\n",
    "sim.connect(weather, building, ('T_air', 'T_amb'), 'apparent_zenith', 'azimuth', 'dni', 'dhi', 'ghi')\n",
    "sim.connect(weather, heatpump, ('T_air', 'T_source'))\n",
    "sim.connect(heatpump, building, ('dot_Q_hp', 'dot_Q_heat'))\n",
    "sim.connect(controller, heatpump, ('state', 'state'), triggers=['state'])\n",
    "\n",
    "sim.connect(building, heatpump, ('T_room1', 'T_sink'), time_shifted=True, init_values={'T_room1': 21})\n",
    "sim.connect(building, controller, ('T_room1', 'T_is'), time_shifted=True, init_values={'T_room1': 21})\n",
    "\n",
    "times = pd.date_range('2021-01-01 00:00:00', '2021-01-03 00:00:00', freq='1min', tz='UTC+01:00')\n",
    "\n",
    "sim.run(times)"
   ]
  },
  {
   "cell_type": "code",
   "execution_count": null,
   "metadata": {},
   "outputs": [],
   "source": []
  }
 ],
 "metadata": {
  "kernelspec": {
   "display_name": ".venv",
   "language": "python",
   "name": "python3"
  },
  "language_info": {
   "codemirror_mode": {
    "name": "ipython",
    "version": 3
   },
   "file_extension": ".py",
   "mimetype": "text/x-python",
   "name": "python",
   "nbconvert_exporter": "python",
   "pygments_lexer": "ipython3",
   "version": "3.11.5"
  }
 },
 "nbformat": 4,
 "nbformat_minor": 2
}
