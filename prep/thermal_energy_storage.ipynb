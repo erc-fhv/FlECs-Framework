{
 "cells": [
  {
   "cell_type": "code",
   "execution_count": 16,
   "metadata": {},
   "outputs": [],
   "source": [
    "import numpy as np\n",
    "from scipy.linalg import expm"
   ]
  },
  {
   "cell_type": "code",
   "execution_count": 5,
   "metadata": {},
   "outputs": [],
   "source": [
    "c_p = 4200  # J/(kg K)"
   ]
  },
  {
   "cell_type": "code",
   "execution_count": 4,
   "metadata": {},
   "outputs": [],
   "source": [
    "UA     = [   10,     5,    10] # W/K\n",
    "C      = [40000, 40000, 40000] # J/(kg K)\n",
    "dot_mi = [    0,     0,     0] # kg/s\n",
    "dot_mo = [    0,     0,     0] # kg/s\n",
    "T_inf  = 293.15  # k\n",
    "\n",
    "N = 3 # number of layers"
   ]
  },
  {
   "cell_type": "code",
   "execution_count": 7,
   "metadata": {},
   "outputs": [],
   "source": [
    "# mass balance\n",
    "dot_m = np.zeros((N, N))\n",
    "# dot_m[ein, aus]"
   ]
  },
  {
   "cell_type": "code",
   "execution_count": null,
   "metadata": {},
   "outputs": [],
   "source": [
    "A = np.zeros((N, N))\n",
    "\n",
    "A[0, 0]     = (-UA[0] - dot_mo[0]*c_p - dot_m[0, 1]*c_p)/C[0]\n",
    "A[0, 1]     = (dot_m[1, 0]*c_p)/C[0]\n",
    "\n",
    "for n in range(1, N-1):\n",
    "    A[n, n-1] = (dot_m[n-1, n]*c_p)/C[n]\n",
    "    A[n, n]   = (-UA[n] - dot_mo[n]*c_p - dot_m[n, n+1]*c_p - dot_m[n, n-1]*c_p)/C[n]\n",
    "    A[n, n+1] = (dot_m[n+1, n]*c_p)/C[n]\n",
    "\n",
    "A[N-1, N-2] = (dot_m[N-2, N-1]*c_p)/C[N-1]\n",
    "A[N-1, N-1] = (-UA[N-1] - dot_mo[N-1]*c_p - dot_m[N-1, N-2]*c_p)/C[N-1]"
   ]
  },
  {
   "cell_type": "code",
   "execution_count": 9,
   "metadata": {},
   "outputs": [
    {
     "data": {
      "text/plain": [
       "array([[-0.00025 ,  0.      ,  0.      ],\n",
       "       [ 0.      , -0.000125,  0.      ],\n",
       "       [ 0.      ,  0.      , -0.00025 ]])"
      ]
     },
     "execution_count": 9,
     "metadata": {},
     "output_type": "execute_result"
    }
   ],
   "source": [
    "A"
   ]
  },
  {
   "cell_type": "code",
   "execution_count": 17,
   "metadata": {},
   "outputs": [],
   "source": [
    "delta_t=60\n",
    "V=0.1\n",
    "d=400\n",
    "N=10\n",
    "U=0.766\n",
    "k_1=8.2\n",
    "P_el_nom=2000\n",
    "h_he=300\n",
    "T0=[40., 40., 40., 40., 40., 40., 40., 40., 40., 40.]\n",
    "c_p       = 4200 # J/(kg K)\n",
    "A_l       = (np.pi * (d/1000)**2)/4 # inside area of the tank in m \n",
    "h         = (V*10**9)/((np.pi * d**2)/4) # height of the tank in mm\n",
    "x_l       = h / (N * 1000) # height of each layer in m\n",
    "m_l       = (V*1000)/N # mass of water in each layer in kg\n",
    "UA_m      = U * (np.pi * d * h / N)/10**6 # UA value of middle layers in W / K\n",
    "UA_a      = U * (np.pi * d * h / N + (d**2/4 * np.pi))/10**6 # UA value of outer layers in W / K\n",
    "UA        = [UA_a]+[UA_m]*(N-2)+[UA_a] # list of UA values for each layer\n",
    "C         = [m_l*c_p] * N # J / kg\n",
    "A         = np.zeros((N, N)) # A matrix\n",
    "B         = np.zeros((N, N+2)) # B matrix\n",
    "u         = np.zeros(N+2) # u vector\n",
    "dot_m     = np.zeros((N, N)) # dot_m[ein, aus]\n",
    "x         = np.array(T0) + 273.15 # vector containing starting temperatures in K\n",
    "k         = [  0] *N # starting k values (values will be determined in logic) W/(m K)\n",
    "k_2       = 999999 # W/(m K)\n",
    "he_layers = int(np.ceil(h_he/(h/N))) # layers of the tank receiving heat from heating element directly\n",
    "P_el      = [0] * (N-he_layers) + [P_el_nom/he_layers] * he_layers # list of electrical power input of each layer in W\n",
    "\n",
    "time=0\n",
    "dot_m_o_DHW=0.1\n",
    "T_i_DHW=10\n",
    "T_inf=10+273.15\n",
    "state=0\n",
    "\n",
    "dot_m_i = [             0] + [0]*(N-2) + [   dot_m_o_DHW] # kg/s\n",
    "T_i     = [             0] + [0]*(N-2) + [T_i_DHW+273.15] # K\n",
    "dot_m_o = [   dot_m_o_DHW] + [0]*(N-2) + [             0] # kg/s"
   ]
  },
  {
   "cell_type": "code",
   "execution_count": 22,
   "metadata": {},
   "outputs": [],
   "source": [
    "def logic_heat_transfer(dot_m_i, dot_m_o, dot_m, UA, A, B, u, C, N, c_p, x_prev, T_inf, T_i, delta_t, x_l, k, A_l, k_1, k_2, P_el, state):\n",
    "    # logic with heat transfer between layers\n",
    "\n",
    "    #################\n",
    "    # Effective thermal conductivity\n",
    "    #################\n",
    "    \n",
    "    for n in range(1, N):\n",
    "        if x_prev[n-1] >= x_prev[n]:\n",
    "            k[n] = k_1\n",
    "        elif x_prev[n-1] < x_prev[n]:\n",
    "            k[n] = k_2\n",
    "\n",
    "    # check mass balance\n",
    "    assert sum(dot_m_i) - sum(dot_m_o) == 0, 'mass balance not zero'\n",
    "\n",
    "    #################\n",
    "    # Mass balance\n",
    "    #################\n",
    "    # Zeroth Layer (Top)\n",
    "    dot_m_net = dot_m_i[0] - dot_m_o[0]\n",
    "    if dot_m_net > 0:\n",
    "        dot_m[0, 1] = dot_m_net\n",
    "        dot_m[1, 0] = 0\n",
    "    else:\n",
    "        dot_m[0, 1] = 0\n",
    "        dot_m[1, 0] = -dot_m_net\n",
    "\n",
    "    # Mid Layers\n",
    "    for n in range(1, N-1):\n",
    "        dot_m_net = dot_m_i[n] - dot_m_o[n] + dot_m[n-1, n] - dot_m[n, n-1]\n",
    "        if dot_m_net > 0:\n",
    "            dot_m[n, n+1] = dot_m_net\n",
    "            dot_m[n+1, n] = 0\n",
    "        else:\n",
    "            dot_m[n, n+1] = 0\n",
    "            dot_m[n+1, n] = -dot_m_net\n",
    "\n",
    "    #################\n",
    "    # A Matrix\n",
    "    #################\n",
    "    # Zeroth Layer (Top)\n",
    "    A[0, 0]     = (-UA[0] - dot_m_o[0]*c_p - dot_m[0, 1]*c_p)/C[0] - k[1]*A_l/(x_l*C[0])\n",
    "    A[0, 1]     = (dot_m[1, 0]*c_p )/C[0]+ k[1]*A_l/(x_l*C[0])\n",
    "\n",
    "    # N-2  Mid Layers\n",
    "    for n in range(1, N-1):\n",
    "        A[n, n-1] = (dot_m[n-1, n]*c_p)/C[n] + k[n]*A_l/(x_l*C[n])\n",
    "        A[n, n]   = (-UA[n] - dot_m_o[n]*c_p - dot_m[n, n+1]*c_p - dot_m[n, n-1]*c_p)/C[n] - k[n]*A_l/(x_l*C[n]) - k[n+1]*A_l/(x_l*C[n])\n",
    "        A[n, n+1] = (dot_m[n+1, n]*c_p)/C[n] + k[n+1]*A_l/(x_l*C[n])\n",
    "\n",
    "    # N-th Layer (Bottom)\n",
    "    A[N-1, N-2] = (dot_m[N-2, N-1]*c_p)/C[N-1] + k[N-1]*A_l/(x_l*C[N-1])\n",
    "    A[N-1, N-1] = (-UA[N-1] - dot_m_o[N-1]*c_p - dot_m[N-1, N-2]*c_p)/C[N-1] - k[N-1]*A_l/(x_l*C[N-1])\n",
    "\n",
    "\n",
    "    #################\n",
    "    # B-Vector\n",
    "    #################\n",
    "    for n in range(N):\n",
    "        B[n, 0] = UA[n]/C[n]\n",
    "        B[n, n+1] = c_p/C[n]\n",
    "        B[n, N+1] = P_el[n]/C[n]\n",
    "    \n",
    "    #################\n",
    "    # u-Vector\n",
    "    #################\n",
    "    u[0] = T_inf\n",
    "    u[N+1] = state\n",
    "    for n in range(N):\n",
    "        u[n+1] = dot_m_i[n]*T_i[n]\n",
    "\n",
    "    # discretize\n",
    "\n",
    "    # discretize\n",
    "    exponent = np.vstack((np.hstack((A, B)), np.zeros((B.shape[1], A.shape[1]+B.shape[1]))))*delta_t\n",
    "\n",
    "    res = expm(exponent)\n",
    "\n",
    "    Ad = res[:A.shape[0], :A.shape[1]]\n",
    "    Bd = res[:B.shape[0], A.shape[1]:]\n",
    "    \n",
    "    x=Ad@x_prev+Bd@u.T\n",
    "\n",
    "    return x"
   ]
  },
  {
   "cell_type": "code",
   "execution_count": 21,
   "metadata": {},
   "outputs": [
    {
     "data": {
      "text/plain": [
       "array([313.14363635, 313.14669129, 313.14670835, 313.14660213,\n",
       "       313.14539723, 313.13369596, 313.03895963, 312.42490931,\n",
       "       309.43562143, 299.70070811])"
      ]
     },
     "execution_count": 21,
     "metadata": {},
     "output_type": "execute_result"
    }
   ],
   "source": [
    "logic_heat_transfer(dot_m_i, dot_m_o, dot_m, UA, A, B, u, C, N, c_p, x, T_inf, T_i, delta_t, x_l, k, A_l, k_1, k_2, P_el, state)"
   ]
  },
  {
   "cell_type": "code",
   "execution_count": null,
   "metadata": {},
   "outputs": [],
   "source": []
  }
 ],
 "metadata": {
  "kernelspec": {
   "display_name": ".venv",
   "language": "python",
   "name": "python3"
  },
  "language_info": {
   "codemirror_mode": {
    "name": "ipython",
    "version": 3
   },
   "file_extension": ".py",
   "mimetype": "text/x-python",
   "name": "python",
   "nbconvert_exporter": "python",
   "pygments_lexer": "ipython3",
   "version": "3.12.3"
  }
 },
 "nbformat": 4,
 "nbformat_minor": 2
}
