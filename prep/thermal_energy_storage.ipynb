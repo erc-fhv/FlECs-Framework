{
 "cells": [
  {
   "cell_type": "code",
   "execution_count": 2,
   "metadata": {},
   "outputs": [],
   "source": [
    "import numpy as np"
   ]
  },
  {
   "cell_type": "code",
   "execution_count": 5,
   "metadata": {},
   "outputs": [],
   "source": [
    "c_p = 4200  # J/(kg K)"
   ]
  },
  {
   "cell_type": "code",
   "execution_count": 4,
   "metadata": {},
   "outputs": [],
   "source": [
    "UA     = [   10,     5,    10] # W/K\n",
    "C      = [40000, 40000, 40000] # J/(kg K)\n",
    "dot_mi = [    0,     0,     0] # kg/s\n",
    "dot_mo = [    0,     0,     0] # kg/s\n",
    "T_inf  = 293.15  # k\n",
    "\n",
    "N = 3 # number of layers"
   ]
  },
  {
   "cell_type": "code",
   "execution_count": 7,
   "metadata": {},
   "outputs": [],
   "source": [
    "# mass balance\n",
    "dot_m = np.zeros((N, N))\n",
    "# dot_m[ein, aus]"
   ]
  },
  {
   "cell_type": "code",
   "execution_count": null,
   "metadata": {},
   "outputs": [],
   "source": [
    "A = np.zeros((N, N))\n",
    "\n",
    "A[0, 0]     = (-UA[0] - dot_mo[0]*c_p - dot_m[0, 1]*c_p)/C[0]\n",
    "A[0, 1]     = (dot_m[1, 0]*c_p)/C[0]\n",
    "\n",
    "for n in range(1, N-1):\n",
    "    A[n, n-1] = (dot_m[n-1, n]*c_p)/C[n]\n",
    "    A[n, n]   = (-UA[n] - dot_mo[n]*c_p - dot_m[n, n+1]*c_p - dot_m[n, n-1]*c_p)/C[n]\n",
    "    A[n, n+1] = (dot_m[n+1, n]*c_p)/C[n]\n",
    "\n",
    "A[N-1, N-2] = (dot_m[N-2, N-1]*c_p)/C[N-1]\n",
    "A[N-1, N-1] = (-UA[N-1] - dot_mo[N-1]*c_p - dot_m[N-1, N-2]*c_p)/C[N-1]"
   ]
  },
  {
   "cell_type": "code",
   "execution_count": 9,
   "metadata": {},
   "outputs": [
    {
     "data": {
      "text/plain": [
       "array([[-0.00025 ,  0.      ,  0.      ],\n",
       "       [ 0.      , -0.000125,  0.      ],\n",
       "       [ 0.      ,  0.      , -0.00025 ]])"
      ]
     },
     "execution_count": 9,
     "metadata": {},
     "output_type": "execute_result"
    }
   ],
   "source": [
    "A"
   ]
  },
  {
   "cell_type": "code",
   "execution_count": null,
   "metadata": {},
   "outputs": [],
   "source": []
  }
 ],
 "metadata": {
  "kernelspec": {
   "display_name": "flecsframework_0_1",
   "language": "python",
   "name": "python3"
  },
  "language_info": {
   "codemirror_mode": {
    "name": "ipython",
    "version": 3
   },
   "file_extension": ".py",
   "mimetype": "text/x-python",
   "name": "python",
   "nbconvert_exporter": "python",
   "pygments_lexer": "ipython3",
   "version": "3.12.5"
  }
 },
 "nbformat": 4,
 "nbformat_minor": 2
}
