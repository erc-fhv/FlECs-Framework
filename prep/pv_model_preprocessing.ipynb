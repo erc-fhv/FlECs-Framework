{
 "cells": [
  {
   "cell_type": "code",
   "execution_count": null,
   "metadata": {},
   "outputs": [
    {
     "name": "stderr",
     "output_type": "stream",
     "text": [
      "C:\\Users\\seva\\AppData\\Local\\Temp\\ipykernel_16060\\3798319186.py:9: FutureWarning: 'H' is deprecated and will be removed in a future version, please use 'h' instead.\n",
      "  }, index=pd.date_range(\"2020-01-01 12:00\", periods=3, freq=\"H\"))\n"
     ]
    },
    {
     "ename": "TypeError",
     "evalue": "get_total_irradiance() missing 2 required positional arguments: 'dni' and 'dhi'",
     "output_type": "error",
     "traceback": [
      "\u001b[1;31m---------------------------------------------------------------------------\u001b[0m",
      "\u001b[1;31mTypeError\u001b[0m                                 Traceback (most recent call last)",
      "Cell \u001b[1;32mIn[2], line 21\u001b[0m\n\u001b[0;32m     18\u001b[0m surface_tilt \u001b[38;5;241m=\u001b[39m tilt\n\u001b[0;32m     19\u001b[0m surface_azimuth \u001b[38;5;241m=\u001b[39m orientation\n\u001b[1;32m---> 21\u001b[0m total_irradiance \u001b[38;5;241m=\u001b[39m \u001b[43mpvlib\u001b[49m\u001b[38;5;241;43m.\u001b[39;49m\u001b[43mirradiance\u001b[49m\u001b[38;5;241;43m.\u001b[39;49m\u001b[43mget_total_irradiance\u001b[49m\u001b[43m(\u001b[49m\n\u001b[0;32m     22\u001b[0m \u001b[43m    \u001b[49m\u001b[43msurface_tilt\u001b[49m\u001b[38;5;241;43m=\u001b[39;49m\u001b[43msurface_tilt\u001b[49m\u001b[43m,\u001b[49m\n\u001b[0;32m     23\u001b[0m \u001b[43m    \u001b[49m\u001b[43msurface_azimuth\u001b[49m\u001b[38;5;241;43m=\u001b[39;49m\u001b[43msurface_azimuth\u001b[49m\u001b[43m,\u001b[49m\n\u001b[0;32m     24\u001b[0m \u001b[43m    \u001b[49m\u001b[38;5;66;43;03m# dni=None,  # Direktstrahlung (kann abgeschätzt werden)\u001b[39;49;00m\n\u001b[0;32m     25\u001b[0m \u001b[43m    \u001b[49m\u001b[43mghi\u001b[49m\u001b[38;5;241;43m=\u001b[39;49m\u001b[43mweather_data\u001b[49m\u001b[43m[\u001b[49m\u001b[38;5;124;43m'\u001b[39;49m\u001b[38;5;124;43mghi\u001b[39;49m\u001b[38;5;124;43m'\u001b[39;49m\u001b[43m]\u001b[49m\u001b[43m,\u001b[49m\n\u001b[0;32m     26\u001b[0m \u001b[43m    \u001b[49m\u001b[38;5;66;43;03m# dhi=None,  # Diffusstrahlung (kann abgeschätzt werden)\u001b[39;49;00m\n\u001b[0;32m     27\u001b[0m \u001b[43m    \u001b[49m\u001b[43msolar_zenith\u001b[49m\u001b[38;5;241;43m=\u001b[39;49m\u001b[43msolar_position\u001b[49m\u001b[43m[\u001b[49m\u001b[38;5;124;43m'\u001b[39;49m\u001b[38;5;124;43mapparent_zenith\u001b[39;49m\u001b[38;5;124;43m'\u001b[39;49m\u001b[43m]\u001b[49m\u001b[43m,\u001b[49m\n\u001b[0;32m     28\u001b[0m \u001b[43m    \u001b[49m\u001b[43msolar_azimuth\u001b[49m\u001b[38;5;241;43m=\u001b[39;49m\u001b[43msolar_position\u001b[49m\u001b[43m[\u001b[49m\u001b[38;5;124;43m'\u001b[39;49m\u001b[38;5;124;43mazimuth\u001b[39;49m\u001b[38;5;124;43m'\u001b[39;49m\u001b[43m]\u001b[49m\n\u001b[0;32m     29\u001b[0m \u001b[43m)\u001b[49m\n\u001b[0;32m     31\u001b[0m \u001b[38;5;66;03m# Ergebnisse anzeigen\u001b[39;00m\n\u001b[0;32m     32\u001b[0m \u001b[38;5;28mprint\u001b[39m(total_irradiance)\n",
      "\u001b[1;31mTypeError\u001b[0m: get_total_irradiance() missing 2 required positional arguments: 'dni' and 'dhi'"
     ]
    }
   ],
   "source": [
    "import pvlib\n",
    "import pandas as pd\n",
    "\n",
    "# Beispiel-Daten\n",
    "weather_data = pd.DataFrame({\n",
    "    'ghi': [500, 600, 700],  # Globalstrahlung (in W/m²)\n",
    "    'temp_air': [25, 26, 27],  # Umgebungstemperatur (°C)\n",
    "    'wind_speed': [3, 3, 3]    # Windgeschwindigkeit (m/s)\n",
    "}, index=pd.date_range(\"2020-01-01 12:00\", periods=3, freq=\"H\"))\n",
    "\n",
    "# Standort und Moduldaten\n",
    "location = pvlib.location.Location(latitude=50, longitude=8)\n",
    "solar_position = location.get_solarposition(weather_data.index)\n",
    "\n",
    "# Modellierung der Einstrahlung auf eine geneigte Fläche\n",
    "tilt = 30  # Modulneigung\n",
    "orientation = 180  # Südausrichtung\n",
    "surface_tilt = tilt\n",
    "surface_azimuth = orientation\n",
    "\n",
    "\n",
    "\n",
    "pvlib.irradiance.disc()\n",
    "\n",
    "total_irradiance = pvlib.irradiance.get_total_irradiance(\n",
    "    surface_tilt=surface_tilt,\n",
    "    surface_azimuth=surface_azimuth,\n",
    "    # dni=None,  # Direktstrahlung (kann abgeschätzt werden)\n",
    "    ghi=weather_data['ghi'],\n",
    "    # dhi=None,  # Diffusstrahlung (kann abgeschätzt werden)\n",
    "    solar_zenith=solar_position['apparent_zenith'],\n",
    "    solar_azimuth=solar_position['azimuth']\n",
    ")\n",
    "\n",
    "# Ergebnisse anzeigen\n",
    "print(total_irradiance)\n"
   ]
  },
  {
   "cell_type": "code",
   "execution_count": null,
   "metadata": {},
   "outputs": [],
   "source": []
  }
 ],
 "metadata": {
  "kernelspec": {
   "display_name": ".venv",
   "language": "python",
   "name": "python3"
  },
  "language_info": {
   "codemirror_mode": {
    "name": "ipython",
    "version": 3
   },
   "file_extension": ".py",
   "mimetype": "text/x-python",
   "name": "python",
   "nbconvert_exporter": "python",
   "pygments_lexer": "ipython3",
   "version": "3.11.5"
  }
 },
 "nbformat": 4,
 "nbformat_minor": 2
}
